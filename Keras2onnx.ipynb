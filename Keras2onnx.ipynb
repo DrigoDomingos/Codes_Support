{
  "nbformat": 4,
  "nbformat_minor": 0,
  "metadata": {
    "colab": {
      "name": "Untitled0.ipynb",
      "version": "0.3.2",
      "provenance": [],
      "include_colab_link": true
    },
    "kernelspec": {
      "name": "python3",
      "display_name": "Python 3"
    }
  },
  "cells": [
    {
      "cell_type": "markdown",
      "metadata": {
        "id": "view-in-github",
        "colab_type": "text"
      },
      "source": [
        "<a href=\"https://colab.research.google.com/github/DrigoDomingos/Codes_Support/blob/master/Keras2onnx.ipynb\" target=\"_parent\"><img src=\"https://colab.research.google.com/assets/colab-badge.svg\" alt=\"Open In Colab\"/></a>"
      ]
    },
    {
      "cell_type": "code",
      "metadata": {
        "id": "BW0z8mww9Vto",
        "colab_type": "code",
        "colab": {}
      },
      "source": [
        "# Import Libraries\n",
        "from keras.preprocessing.image import load_img\n",
        "from keras.preprocessing.image import img_to_array\n",
        "from keras.applications.vgg16 import preprocess_input\n",
        "from keras.applications.vgg16 import decode_predictions\n",
        "from keras.applications.vgg16 import VGG16\n",
        "from keras import backend as K\n",
        "import matplotlib.pyplot as plt\n",
        "import numpy as np\n"
      ],
      "execution_count": 0,
      "outputs": []
    },
    {
      "cell_type": "markdown",
      "metadata": {
        "id": "Xn_bUzpJPNfI",
        "colab_type": "text"
      },
      "source": [
        "https://fizzylogic.nl/2018/02/16/heres-why-microsoft-cognitive-toolkit-is-the-coolest-deep-learning-framework-around/"
      ]
    },
    {
      "cell_type": "code",
      "metadata": {
        "id": "nvbAHCtj9pSW",
        "colab_type": "code",
        "outputId": "89a4c5fb-5209-4e15-ed3e-f06fdd403c6f",
        "colab": {
          "base_uri": "https://localhost:8080/",
          "height": 50
        }
      },
      "source": [
        "# Process Model\n",
        "model = VGG16()\n",
        "image = load_img('madrid.jpg', target_size=(224, 224))\n",
        "image = img_to_array(image)\n",
        "image = image.reshape((1, image.shape[0], image.shape[1], image.shape[2]))\n",
        "image = preprocess_input(image)\n",
        "# Generate predictions\n",
        "pred = model.predict(image)\n",
        "print('Predicted:', decode_predictions(pred, top=3)[0])\n",
        "np.argmax(pred)\n",
        "\n",
        "onnx_model = onnxmltools.convert_keras(model, target_opset=7) \n",
        "onnxmltools.utils.save_model(onnx_model, 'example.onnx')\n"
      ],
      "execution_count": 0,
      "outputs": [
        {
          "output_type": "stream",
          "text": [
            "Predicted: [('n02110958', 'pug', 0.9368114), ('n02108422', 'bull_mastiff', 0.047765557), ('n04409515', 'tennis_ball', 0.0064147254)]\n",
            "using tensorflow=1.13.1, onnx=1.5.0, opset=7, tfonnx=1.5.0/82f805\n"
          ],
          "name": "stdout"
        }
      ]
    },
    {
      "cell_type": "code",
      "metadata": {
        "id": "fbXPOIcODfGx",
        "colab_type": "code",
        "outputId": "7aee0f0e-6816-48ba-f64a-304f0662fbf1",
        "colab": {
          "base_uri": "https://localhost:8080/",
          "height": 558
        }
      },
      "source": [
        "!pip install onnxmltools\n",
        "import onnxmltools"
      ],
      "execution_count": 0,
      "outputs": [
        {
          "output_type": "stream",
          "text": [
            "Collecting onnxmltools\n",
            "\u001b[?25l  Downloading https://files.pythonhosted.org/packages/78/7f/1d47b82f1e98f742018e4c4c227ec9bd0ae1efdba3a6dfd7d30c45881fb9/onnxmltools-1.4.1-py2.py3-none-any.whl (371kB)\n",
            "\u001b[K     |████████████████████████████████| 378kB 5.1MB/s \n",
            "\u001b[?25hRequirement already satisfied: numpy in /usr/local/lib/python3.6/dist-packages (from onnxmltools) (1.16.4)\n",
            "Requirement already satisfied: protobuf in /usr/local/lib/python3.6/dist-packages (from onnxmltools) (3.7.1)\n",
            "Collecting skl2onnx (from onnxmltools)\n",
            "\u001b[?25l  Downloading https://files.pythonhosted.org/packages/40/4d/630598ba5cbf7b6522158c236b9e74930f14bbc9324b61ddc40f252bab40/skl2onnx-1.4.9-py2.py3-none-any.whl (114kB)\n",
            "\u001b[K     |████████████████████████████████| 122kB 43.7MB/s \n",
            "\u001b[?25hCollecting keras2onnx (from onnxmltools)\n",
            "\u001b[?25l  Downloading https://files.pythonhosted.org/packages/d8/17/c1583b741af6400abfd4e6497689acee1b01dc53955321d703a7b5348bd4/keras2onnx-1.4.0-py3-none-any.whl (174kB)\n",
            "\u001b[K     |████████████████████████████████| 184kB 44.0MB/s \n",
            "\u001b[?25hCollecting onnx (from onnxmltools)\n",
            "\u001b[?25l  Downloading https://files.pythonhosted.org/packages/88/50/e4a5a869093f35884d1fd95b46b24705ab27adb7e562a2a307523c043be3/onnx-1.5.0-cp36-cp36m-manylinux1_x86_64.whl (7.0MB)\n",
            "\u001b[K     |████████████████████████████████| 7.1MB 39.4MB/s \n",
            "\u001b[?25hCollecting onnxconverter-common>=1.4.0 (from onnxmltools)\n",
            "  Downloading https://files.pythonhosted.org/packages/f5/f6/594f371b65e93aaa204bfbdd45fb4074f8188fb6ec348fdaf098adc8e3f3/onnxconverter_common-1.4.2-py2.py3-none-any.whl\n",
            "Requirement already satisfied: six in /usr/local/lib/python3.6/dist-packages (from onnxmltools) (1.12.0)\n",
            "Requirement already satisfied: setuptools in /usr/local/lib/python3.6/dist-packages (from protobuf->onnxmltools) (41.0.1)\n",
            "Requirement already satisfied: scikit-learn>=0.19 in /usr/local/lib/python3.6/dist-packages (from skl2onnx->onnxmltools) (0.21.2)\n",
            "Requirement already satisfied: keras in /usr/local/lib/python3.6/dist-packages (from keras2onnx->onnxmltools) (2.2.4)\n",
            "Requirement already satisfied: typing>=3.6.4 in /usr/local/lib/python3.6/dist-packages (from onnx->onnxmltools) (3.6.6)\n",
            "Collecting typing-extensions>=3.6.2.1 (from onnx->onnxmltools)\n",
            "  Downloading https://files.pythonhosted.org/packages/0f/62/c66e553258c37c33f9939abb2dd8d2481803d860ff68e635466f12aa7efa/typing_extensions-3.7.2-py3-none-any.whl\n",
            "Requirement already satisfied: joblib>=0.11 in /usr/local/lib/python3.6/dist-packages (from scikit-learn>=0.19->skl2onnx->onnxmltools) (0.13.2)\n",
            "Requirement already satisfied: scipy>=0.17.0 in /usr/local/lib/python3.6/dist-packages (from scikit-learn>=0.19->skl2onnx->onnxmltools) (1.3.0)\n",
            "Requirement already satisfied: keras-applications>=1.0.6 in /usr/local/lib/python3.6/dist-packages (from keras->keras2onnx->onnxmltools) (1.0.7)\n",
            "Requirement already satisfied: keras-preprocessing>=1.0.5 in /usr/local/lib/python3.6/dist-packages (from keras->keras2onnx->onnxmltools) (1.0.9)\n",
            "Requirement already satisfied: pyyaml in /usr/local/lib/python3.6/dist-packages (from keras->keras2onnx->onnxmltools) (3.13)\n",
            "Requirement already satisfied: h5py in /usr/local/lib/python3.6/dist-packages (from keras->keras2onnx->onnxmltools) (2.8.0)\n",
            "Installing collected packages: typing-extensions, onnx, onnxconverter-common, skl2onnx, keras2onnx, onnxmltools\n",
            "Successfully installed keras2onnx-1.4.0 onnx-1.5.0 onnxconverter-common-1.4.2 onnxmltools-1.4.1 skl2onnx-1.4.9 typing-extensions-3.7.2\n"
          ],
          "name": "stdout"
        }
      ]
    },
    {
      "cell_type": "code",
      "metadata": {
        "id": "sot5MOiKDfvB",
        "colab_type": "code",
        "colab": {}
      },
      "source": [
        ""
      ],
      "execution_count": 0,
      "outputs": []
    }
  ]
}